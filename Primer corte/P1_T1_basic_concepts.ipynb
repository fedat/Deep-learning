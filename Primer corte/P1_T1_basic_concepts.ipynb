{
  "nbformat": 4,
  "nbformat_minor": 0,
  "metadata": {
    "colab": {
      "name": "P1_T1_basic_concepts.ipynb",
      "provenance": [],
      "collapsed_sections": [
        "JbwTLlWRe6wW",
        "DYWXtaTJvM6G",
        "xPqP2yPRwRfQ",
        "XkVfDaRixIZV"
      ],
      "toc_visible": true
    },
    "kernelspec": {
      "name": "python3",
      "display_name": "Python 3"
    }
  },
  "cells": [
    {
      "cell_type": "markdown",
      "metadata": {
        "id": "JbwTLlWRe6wW"
      },
      "source": [
        "#1EJERCICIO(mayor de tres números)\r\n",
        "\r\n",
        "\r\n",
        "*   Método clásico\r\n",
        "\r\n",
        "\r\n",
        "\r\n",
        "\r\n"
      ]
    },
    {
      "cell_type": "code",
      "metadata": {
        "id": "r7Z7Ja2leroI"
      },
      "source": [
        "var1=int(input(\"ingresar el valor de la 1° variable:\"))\r\n",
        "var2=int(input(\"ingresar el valor de la 2° variable:\"))\r\n",
        "var3=int(input(\"ingresar el valor de la 3° variable:\"))\r\n",
        "if (var1>var2 and var1>var3):\r\n",
        "  print(\"el mayor es :\"+str(var1))\r\n",
        "elif (var2>var1 and var2>var3):\r\n",
        "  print(\"el mayor es :\"+str(var2))\r\n",
        "else:\r\n",
        "  print(\"el mayor es :\"+str(var3))\r\n",
        "\r\n"
      ],
      "execution_count": null,
      "outputs": []
    },
    {
      "cell_type": "markdown",
      "metadata": {
        "id": "ncWjt1WbfL6n"
      },
      "source": [
        "\r\n",
        "*  Método Python\r\n",
        "\r\n"
      ]
    },
    {
      "cell_type": "code",
      "metadata": {
        "id": "qAeXEGL7vEFP"
      },
      "source": [
        "var1, var2,var3= input (\"Ingrese los tres números separados por coma:\").split(\",\")\r\n",
        "print(\"El número máximo es: \"+ str(max(var1,var2,var3)))\r\n"
      ],
      "execution_count": null,
      "outputs": []
    },
    {
      "cell_type": "markdown",
      "metadata": {
        "id": "DYWXtaTJvM6G"
      },
      "source": [
        "\r\n",
        "\r\n",
        "---\r\n",
        "#2EJERCICIO(Suma)\r\n",
        "*   Método clásico\r\n",
        "\r\n",
        "\r\n"
      ]
    },
    {
      "cell_type": "code",
      "metadata": {
        "id": "6xjHoFUcvuYB"
      },
      "source": [
        "tot=int(input(\"Ingrese la cantidad N de números: \"))\r\n",
        "suma=0\r\n",
        "for i in range(0, tot):\r\n",
        "  suma+=int(input(\"ingrese el valor del num \"+str(i)+\": \"))\r\n",
        "  print(\"El total es: \"+str(suma))"
      ],
      "execution_count": null,
      "outputs": []
    },
    {
      "cell_type": "markdown",
      "metadata": {
        "id": "x0M8bFMmvaa5"
      },
      "source": [
        "\r\n",
        "*   Método minimalista python\r\n",
        "\r\n"
      ]
    },
    {
      "cell_type": "code",
      "metadata": {
        "id": "az52-EfqwA5d"
      },
      "source": [
        "for i in range(0, int(input(\"Ingrese la cantidad N de números: \"))):\r\n",
        "  suma+=int(input(\"ingrese el valor del num \"+str(i)+\": \"))\r\n",
        "  print(\"El total es: \"+str(suma))"
      ],
      "execution_count": null,
      "outputs": []
    },
    {
      "cell_type": "markdown",
      "metadata": {
        "id": "xPqP2yPRwRfQ"
      },
      "source": [
        "\r\n",
        "\r\n",
        "---\r\n",
        "#3EJERCICIO(par entre números)\r\n",
        "*   Método clásico\r\n",
        "\r\n",
        "\r\n"
      ]
    },
    {
      "cell_type": "code",
      "metadata": {
        "id": "XrdNcxy4wnpZ"
      },
      "source": [
        "inicio=int(input(\"Número minimo: \"))\r\n",
        "fin=int(input(\"Número final: \"))\r\n",
        "for i in range(inicio,fin):\r\n",
        "  if ((i%2)==0):\r\n",
        "    print(\"El número par :\" + str(i))"
      ],
      "execution_count": null,
      "outputs": []
    },
    {
      "cell_type": "markdown",
      "metadata": {
        "id": "YC2NjWDtw1aI"
      },
      "source": [
        "*   Método minimalista python\r\n",
        "\r\n"
      ]
    },
    {
      "cell_type": "code",
      "metadata": {
        "id": "DdekfhwSw7i-"
      },
      "source": [
        "for i in range(int(input(\"Número minimo: \")),int(input(\"Número final: \"))):\r\n",
        "  if( (i%2)==0 ): print(\"El número par :\" + str(i))"
      ],
      "execution_count": null,
      "outputs": []
    },
    {
      "cell_type": "markdown",
      "metadata": {
        "id": "XkVfDaRixIZV"
      },
      "source": [
        "\r\n",
        "\r\n",
        "---\r\n",
        "#4EJERCICIO(imprimir listas)\r\n",
        "*   Método clásico\r\n",
        "\r\n"
      ]
    },
    {
      "cell_type": "code",
      "metadata": {
        "colab": {
          "base_uri": "https://localhost:8080/"
        },
        "id": "787mqTd8xs-f",
        "outputId": "de46d8aa-6aad-4088-dcf3-136d48e21216"
      },
      "source": [
        "rango1=list(range(1,13))\r\n",
        "rango2=list(range(12,0,-1))\r\n",
        "print(rango1+rango2)"
      ],
      "execution_count": null,
      "outputs": [
        {
          "output_type": "stream",
          "text": [
            "[1, 2, 3, 4, 5, 6, 7, 8, 9, 10, 11, 12, 12, 11, 10, 9, 8, 7, 6, 5, 4, 3, 2, 1]\n"
          ],
          "name": "stdout"
        }
      ]
    },
    {
      "cell_type": "markdown",
      "metadata": {
        "id": "fwca8iEbx6rT"
      },
      "source": [
        "* Método minimalista python\r\n"
      ]
    },
    {
      "cell_type": "code",
      "metadata": {
        "colab": {
          "base_uri": "https://localhost:8080/"
        },
        "id": "A5LRTO6GyAjr",
        "outputId": "8439c60f-3c8d-45aa-f14a-242666425ef0"
      },
      "source": [
        "lista=list(range(1,12))\r\n",
        "print(lista+lista[::-1])"
      ],
      "execution_count": null,
      "outputs": [
        {
          "output_type": "stream",
          "text": [
            "[9, 10, 11, 12, 13, 14, 15, 16, 17, 18, 19, 20, 21, 21, 20, 19, 18, 17, 16, 15, 14, 13, 12, 11, 10, 9]\n"
          ],
          "name": "stdout"
        }
      ]
    },
    {
      "cell_type": "markdown",
      "metadata": {
        "id": "enMLG8c_yK7e"
      },
      "source": [
        "#5EJERCICIO(números aleatorios)\r\n",
        "* Método clásico"
      ]
    },
    {
      "cell_type": "code",
      "metadata": {
        "id": "wuNDyaEQyaCO"
      },
      "source": [
        "##generación de números aleatorios.\r\n",
        "import random\r\n",
        "Var1= random.randrange(101)\r\n",
        "print(Var1)\r\n"
      ],
      "execution_count": null,
      "outputs": []
    },
    {
      "cell_type": "code",
      "metadata": {
        "colab": {
          "base_uri": "https://localhost:8080/"
        },
        "id": "M_4Shmdzyucw",
        "outputId": "01050b03-31d9-4882-b647-c0623ecbde97"
      },
      "source": [
        "import random\r\n",
        "lista= [ random.randrange(20,22) for i in range(10)]\r\n",
        "print(lista)\r\n"
      ],
      "execution_count": null,
      "outputs": [
        {
          "output_type": "stream",
          "text": [
            "[21, 21, 20, 20, 20, 20, 20, 21, 20, 21]\n"
          ],
          "name": "stdout"
        }
      ]
    },
    {
      "cell_type": "markdown",
      "metadata": {
        "id": "dU-1oxVfy1m0"
      },
      "source": [
        "* Método minimalista python"
      ]
    },
    {
      "cell_type": "code",
      "metadata": {
        "id": "38uO-_6xy4vz"
      },
      "source": [
        "for i in range(10): print(random.randrange(100))"
      ],
      "execution_count": null,
      "outputs": []
    },
    {
      "cell_type": "markdown",
      "metadata": {
        "id": "8c97RYUCz2TT"
      },
      "source": [
        "---\r\n",
        "#6EJERCICIO(población y edades)\r\n",
        "* Método planteado\r\n",
        "\r\n"
      ]
    },
    {
      "cell_type": "code",
      "metadata": {
        "id": "uP-AGwXg0DNM"
      },
      "source": [
        "import random\r\n",
        "habitantes=random.randint(1,15)\r\n",
        "mayores=0\r\n",
        "lista= [random.randrange(30) for i in range(habitantes)]\r\n",
        "for i in lista: \r\n",
        " if(i>=18 ):mayores+=1\r\n",
        "print(\"La población total es de:\"+str(habitantes)+\"\\nporcentaje de mayores:\"+str((mayores*100)/habitantes)+\"porcentaje de menores\"+ str(((habitantes-mayores)*100)/habitantes))"
      ],
      "execution_count": null,
      "outputs": []
    },
    {
      "cell_type": "markdown",
      "metadata": {
        "id": "tL5Ff5lzlFw4"
      },
      "source": [
        "#7EJERCICIO(numpy candidatos alcaldía)\r\n",
        "* Método python\r\n"
      ]
    },
    {
      "cell_type": "code",
      "metadata": {
        "id": "dXKYmkZplTOd"
      },
      "source": [
        "import numpy as np\r\n",
        "from random import randint\r\n",
        "matriz = np.array([[i+1,randint(1,20000)] for i in range(6)])\r\n",
        "ganador = np.where(matriz[:,1] == matriz[:,1].max())\r\n",
        "print(\"las votaciones:\\n\"+str(matriz)+\"\\n El ganador es: \"+str(matriz[ganador[0]]))"
      ],
      "execution_count": null,
      "outputs": []
    },
    {
      "cell_type": "markdown",
      "metadata": {
        "id": "bJ0MoGfvmd9o"
      },
      "source": [
        "#8EJERCICIO(numpy paridos políticos)\r\n",
        "* Método python"
      ]
    },
    {
      "cell_type": "code",
      "metadata": {
        "id": "vfAnXDevml9U"
      },
      "source": [
        "import numpy as np; from random import randint\r\n",
        "votos_20xx = np.random.randint(3000,size=(123,6))\r\n",
        "tot_votos = np.array([[candidato+1,votos_20xx[:,candidato].sum()] for candidato in range(len(votos_20xx[0]))])\r\n",
        "ganador = np.where(tot_votos == tot_votos[:,1].max())\r\n",
        "print(\"El candidato ganador fue el: \"+str(tot_votos[ganador[0]])+\"\\n El total de votos por candidato es \\n\"+str(tot_votos))"
      ],
      "execution_count": null,
      "outputs": []
    },
    {
      "cell_type": "markdown",
      "metadata": {
        "id": "9nTlVL6rmuI_"
      },
      "source": [
        "#9EJERCICIO(formula uno)\r\n",
        "* Método python"
      ]
    },
    {
      "cell_type": "code",
      "metadata": {
        "colab": {
          "base_uri": "https://localhost:8080/"
        },
        "id": "faL4RTHzmzMs",
        "outputId": "76f46199-d708-4631-bb83-1f22ae63c3f8"
      },
      "source": [
        "import numpy as np\r\n",
        "matriz = np.random.uniform(8.2,10,size=(4,5))\r\n",
        "tot_vueltas = np.array([[corredor+1,matriz[:,corredor].sum()] for corredor in range(len(matriz[0]))])\r\n",
        "ganador=np.where(matriz == matriz[:,1].min())\r\n",
        "print (\"Resultados de la carrera:\\n\"+str(matriz)+\"\\nEl Piloto ganador fue el: \"+str(tot_vueltas[ganador[0]]))"
      ],
      "execution_count": null,
      "outputs": [
        {
          "output_type": "stream",
          "text": [
            "Resultados de la carrera:\n",
            "[[8.54960836 9.37461863 8.58562188 8.7314217  8.72412044]\n",
            " [8.35461075 9.81509476 9.17158833 8.30705655 8.43859492]\n",
            " [8.69719769 8.5639066  9.77147304 9.54350589 9.65718613]\n",
            " [9.36588105 9.68233681 9.99344786 8.48284015 9.09091702]]\n",
            "El Piloto ganador fue el: [[ 3.         37.52213111]]\n"
          ],
          "name": "stdout"
        }
      ]
    }
  ]
}